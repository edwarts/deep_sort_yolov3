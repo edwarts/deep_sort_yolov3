{
 "cells": [
  {
   "cell_type": "code",
   "execution_count": 1,
   "metadata": {
    "collapsed": false
   },
   "outputs": [],
   "source": [
    "import os\n",
    "import os.path\n",
    "\n",
    "from datetime import datetime\n",
    "import time"
   ]
  },
  {
   "cell_type": "code",
   "execution_count": 2,
   "metadata": {
    "collapsed": false
   },
   "outputs": [],
   "source": [
    "root = 'datasets/certis/videos'\n",
    "full_categories = [x[0] for x in os.walk(root) if x[0]][1:]"
   ]
  },
  {
   "cell_type": "code",
   "execution_count": 3,
   "metadata": {
    "collapsed": false
   },
   "outputs": [
    {
     "data": {
      "text/plain": [
       "['datasets/certis/videos\\\\AB07']"
      ]
     },
     "execution_count": 3,
     "metadata": {},
     "output_type": "execute_result"
    }
   ],
   "source": [
    "full_categories"
   ]
  },
  {
   "cell_type": "code",
   "execution_count": 4,
   "metadata": {
    "collapsed": true
   },
   "outputs": [],
   "source": [
    "def timestamp_convert(filename):\n",
    "    date = filename.split(\"-\")[1]\n",
    "    time = filename.split(\"-\")[2]\n",
    "    dt = date[0:4] + '-' + date[4:6] + '-' + date[6:8] + ' ' + time[0:2] + ':' + time[2:] + ':00'\n",
    "    ts = datetime.strptime(dt, \"%Y-%m-%d %H:%M:%S\").timestamp()\n",
    "    return ts"
   ]
  },
  {
   "cell_type": "code",
   "execution_count": 7,
   "metadata": {
    "collapsed": false
   },
   "outputs": [
    {
     "name": "stdout",
     "output_type": "stream",
     "text": [
      "['AB07-20180130-0200', 'AB07-20180130-0830', 'AB07-20180130-0838', 'AB07-20180130-1300', 'AB07-20180130-1600']\n"
     ]
    }
   ],
   "source": [
    "data = []\n",
    "for c, category in enumerate(full_categories):\n",
    "    filenames = [os.path.splitext(f)[0] \n",
    "             for dp, dn, filenames in os.walk(category) \n",
    "             for f in filenames if os.path.splitext(f)[1].lower() in ['.avi']\n",
    "            ]\n",
    "    print(filenames)\n",
    "    for file_name in filenames:\n",
    "        data.append({'cap_name': file_name + '.avi', 'jfile_name': file_name + '.json', 'cam_id': file_name.split(\"-\")[0], 'timestamp': timestamp_convert(file_name)})"
   ]
  },
  {
   "cell_type": "code",
   "execution_count": 8,
   "metadata": {
    "collapsed": false
   },
   "outputs": [
    {
     "data": {
      "text/plain": [
       "[{'cam_id': 'AB07',\n",
       "  'cap_name': 'AB07-20180130-0200.avi',\n",
       "  'jfile_name': 'AB07-20180130-0200.json',\n",
       "  'timestamp': 1517277600.0},\n",
       " {'cam_id': 'AB07',\n",
       "  'cap_name': 'AB07-20180130-0830.avi',\n",
       "  'jfile_name': 'AB07-20180130-0830.json',\n",
       "  'timestamp': 1517301000.0},\n",
       " {'cam_id': 'AB07',\n",
       "  'cap_name': 'AB07-20180130-0838.avi',\n",
       "  'jfile_name': 'AB07-20180130-0838.json',\n",
       "  'timestamp': 1517301480.0},\n",
       " {'cam_id': 'AB07',\n",
       "  'cap_name': 'AB07-20180130-1300.avi',\n",
       "  'jfile_name': 'AB07-20180130-1300.json',\n",
       "  'timestamp': 1517317200.0},\n",
       " {'cam_id': 'AB07',\n",
       "  'cap_name': 'AB07-20180130-1600.avi',\n",
       "  'jfile_name': 'AB07-20180130-1600.json',\n",
       "  'timestamp': 1517328000.0}]"
      ]
     },
     "execution_count": 8,
     "metadata": {},
     "output_type": "execute_result"
    }
   ],
   "source": [
    "data"
   ]
  },
  {
   "cell_type": "code",
   "execution_count": null,
   "metadata": {
    "collapsed": true
   },
   "outputs": [],
   "source": []
  }
 ],
 "metadata": {
  "anaconda-cloud": {},
  "kernelspec": {
   "display_name": "Python [default]",
   "language": "python",
   "name": "python3"
  },
  "language_info": {
   "codemirror_mode": {
    "name": "ipython",
    "version": 3
   },
   "file_extension": ".py",
   "mimetype": "text/x-python",
   "name": "python",
   "nbconvert_exporter": "python",
   "pygments_lexer": "ipython3",
   "version": "3.5.2"
  }
 },
 "nbformat": 4,
 "nbformat_minor": 1
}
